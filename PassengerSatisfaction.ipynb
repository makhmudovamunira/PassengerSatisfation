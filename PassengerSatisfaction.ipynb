{
  "nbformat": 4,
  "nbformat_minor": 0,
  "metadata": {
    "colab": {
      "private_outputs": true,
      "provenance": [],
      "authorship_tag": "ABX9TyM1tmvJABSXwcRTiNtGBXAA",
      "include_colab_link": true
    },
    "kernelspec": {
      "name": "python3",
      "display_name": "Python 3"
    },
    "language_info": {
      "name": "python"
    }
  },
  "cells": [
    {
      "cell_type": "markdown",
      "metadata": {
        "id": "view-in-github",
        "colab_type": "text"
      },
      "source": [
        "<a href=\"https://colab.research.google.com/github/makhmudovamunira/PassengerSatisfation/blob/main/PassengerSatisfaction.ipynb\" target=\"_parent\"><img src=\"https://colab.research.google.com/assets/colab-badge.svg\" alt=\"Open In Colab\"/></a>"
      ]
    },
    {
      "cell_type": "code",
      "execution_count": null,
      "metadata": {
        "id": "9rhHPsKjw3Hq"
      },
      "outputs": [],
      "source": [
        "import numpy as np\n",
        "import pandas as pd\n",
        "import matplotlib.pyplot as plt\n",
        "%matplotlib inline\n",
        "import seaborn as sns\n",
        "from sklearn.preprocessing import OneHotEncoder\n",
        "from sklearn.preprocessing import StandardScaler\n",
        "from sklearn.neighbors import KNeighborsClassifier\n",
        "from sklearn.metrics import f1_score, accuracy_score\n",
        "from sklearn.model_selection import train_test_split\n",
        "from sklearn.ensemble import RandomForestClassifier\n",
        "from sklearn.model_selection import cross_val_score"
      ]
    },
    {
      "cell_type": "code",
      "source": [
        "df=pd.read_csv('https://github.com/makhmudovamunira/PassengerSatisfation/blob/main/train_dataset.csv?raw=true')\n",
        "df.head()"
      ],
      "metadata": {
        "id": "barRVqaN0c3l"
      },
      "execution_count": null,
      "outputs": []
    },
    {
      "cell_type": "markdown",
      "source": [
        "Ushbu maʼlumotlar toʻplami aviakompaniya yoʻlovchilarining qoniqish soʻrovini oʻz ichiga oladi. Yo'lovchilarning qoniqishini bashorat qila olasizmi?\n",
        "\n",
        "Tarkib:\n",
        "\n",
        "Gender: yo'lovchilarning jinsi (ayol, erkak)\n",
        "\n",
        "Customer Type: mijoz turi (sodiq mijoz, ishonchsiz mijoz)\n",
        "\n",
        "Age: yo'lovchilarning haqiqiy yoshi\n",
        "\n",
        "Type of Travel: yo'lovchilar parvozining maqsadi (shaxsiy sayohat, biznes sayohat)\n",
        "\n",
        "Class: yo'lovchilar samolyotida sayohat klassi (Business, Eco, Eco Plus)\n",
        "\n",
        "Flight distance: Ushbu sayohatning parvoz masofasi\n",
        "\n",
        "Inflight wifi service: Parvoz ichidagi Wi-Fi xizmatidan qoniqish darajasi (0: Tegishli emas; 1-5)\n",
        "\n",
        "Departure/Arrival time convenient: Ketish/Kelish vaqtining qoniqish darajasi\n",
        "\n",
        "Ease of Online booking: Onlayn bron qilishdan qoniqish darajasi\n",
        "\n",
        "Gate location: Darvoza joylashuvidan qoniqish darajasi\n",
        "\n",
        "Food and drink: Oziq-ovqat va ichimlikdan qoniqish darajasi\n",
        "\n",
        "Online boarding: Onlayn bortdan qoniqish darajasi\n",
        "\n",
        "Seat comfort: O'rindiqning qulayligidan qoniqish darajasi\n",
        "\n",
        "Inflight entertainment: Parvoz ichidagi o'yin-kulgidan qoniqish darajasi\n",
        "\n",
        "On-board service: Bort xizmatidan qoniqish darajasi\n",
        "\n",
        "Leg room service: oyoq xonasi xizmatidan qoniqish darajasi\n",
        "\n",
        "Baggage handling: bagajni tashishdan qoniqish darajasi\n",
        "\n",
        "Check-in service: Ro'yxatdan o'tish xizmatidan qoniqish darajasi\n",
        "\n",
        "Inflight service: Parvoz ichidagi xizmatdan qoniqish darajasi\n",
        "\n",
        "Cleanliness: Tozalikdan qoniqish darajasi\n",
        "\n",
        "Departure Delay in Minutes: jo‘nash vaqtida kechikish daqiqalari\n",
        "\n",
        "Arrival Delay in Minutes: yetib kelganda kechikish daqiqalari\n",
        "\n",
        "Satisfaction: Aviakompaniyaning qoniqish darajasi (qoniqish, neytral yoki norozilik)"
      ],
      "metadata": {
        "id": "YnzCRJZEsM-L"
      }
    },
    {
      "cell_type": "code",
      "source": [
        "df.shape"
      ],
      "metadata": {
        "id": "cfr2X6390oAW"
      },
      "execution_count": null,
      "outputs": []
    },
    {
      "cell_type": "code",
      "source": [
        "df.columns"
      ],
      "metadata": {
        "id": "0REQxQ36thfX"
      },
      "execution_count": null,
      "outputs": []
    },
    {
      "cell_type": "markdown",
      "source": [
        "Malumotlarga ishlov beramiz"
      ],
      "metadata": {
        "id": "qhB5mPSYu1gf"
      }
    },
    {
      "cell_type": "code",
      "source": [
        "df.replace({'Male':1, 'Female':0}, inplace=True)\n",
        "df.replace({'Loyal Customer':1,'disloyal Customer':0}, inplace=True)\n",
        "df.replace({'Business travel':1, 'Personal Travel':0}, inplace=True)\n",
        "encoded=df['Class']\n",
        "encoded=pd.get_dummies(encoded).astype(int)\n",
        "df=df.drop(['Class'], axis='columns')\n",
        "df=pd.concat([df,encoded], axis=1)\n",
        "df.head()"
      ],
      "metadata": {
        "id": "huHpntPGu1HN"
      },
      "execution_count": null,
      "outputs": []
    },
    {
      "cell_type": "code",
      "source": [
        "df.corrwith(df['satisfaction']).sort_values(ascending=False)"
      ],
      "metadata": {
        "id": "AaWC754quune"
      },
      "execution_count": null,
      "outputs": []
    },
    {
      "cell_type": "code",
      "source": [
        "df.drop(columns=['Checkin service', 'Food and drink', 'Customer Type', 'Ease of Online booking', 'Age', 'Gate location', 'id', 'Gender',\n",
        "          'Departure Delay in Minutes', 'Arrival Delay in Minutes', 'Departure/Arrival time convenient','Eco', 'Eco Plus', 'Inflight service', 'Baggage handling'], inplace=True)\n",
        "y=df['satisfaction'].copy()\n",
        "df=df.drop(columns=['satisfaction'],axis='columns')\n",
        "df.head()"
      ],
      "metadata": {
        "id": "5Qg0yZ3YuJKl"
      },
      "execution_count": null,
      "outputs": []
    },
    {
      "cell_type": "code",
      "source": [
        "scaler=StandardScaler()\n",
        "X=scaler.fit_transform(df)"
      ],
      "metadata": {
        "id": "nK9y2dyBu2dm"
      },
      "execution_count": null,
      "outputs": []
    },
    {
      "cell_type": "markdown",
      "source": [
        "##Train/Test split"
      ],
      "metadata": {
        "id": "aFHg6tEoh2ig"
      }
    },
    {
      "cell_type": "code",
      "source": [
        "X_train, X_test, y_train, y_test=train_test_split(X,y, test_size=0.2, random_state=42)"
      ],
      "metadata": {
        "id": "Ed17U_yBh8xb"
      },
      "execution_count": null,
      "outputs": []
    },
    {
      "cell_type": "markdown",
      "source": [
        "Random Forest Classifier"
      ],
      "metadata": {
        "id": "uiO_TFUJaBqa"
      }
    },
    {
      "cell_type": "code",
      "source": [
        "rf=RandomForestClassifier(n_estimators=75)\n",
        "rf.fit(X_train, y_train)\n",
        "y_pred=rf.predict(X_test)\n",
        "accuracy_score(y_test, y_pred)"
      ],
      "metadata": {
        "id": "HFvq5eGFp2gK"
      },
      "execution_count": null,
      "outputs": []
    },
    {
      "cell_type": "markdown",
      "source": [
        "**Test sifatida berilgan dataframeni ham bashorat qilib ko'rib, natijani csv ko'rinishida olamiz**"
      ],
      "metadata": {
        "id": "RSLXGsQHgpEn"
      }
    },
    {
      "cell_type": "code",
      "source": [
        "test=pd.read_csv('https://github.com/makhmudovamunira/PassengerSatisfation/blob/main/test_dataset.csv?raw=true')\n",
        "test.replace({'Male':1, 'Female':0}, inplace=True)\n",
        "test.replace({'Business travel':1, 'Personal Travel':0}, inplace=True)\n",
        "encoded=test['Class']\n",
        "encoded=pd.get_dummies(encoded).astype(int)\n",
        "test=test.drop(['Class'], axis='columns')\n",
        "test=pd.concat([test,encoded], axis=1)\n",
        "test.drop(columns=['Checkin service', 'Food and drink', 'Customer Type', 'Ease of Online booking', 'Age', 'Gate location', 'id', 'Gender',\n",
        "          'Departure Delay in Minutes', 'Arrival Delay in Minutes', 'Departure/Arrival time convenient','Eco', 'Eco Plus', 'Inflight service', 'Baggage handling'], inplace=True)\n",
        "\n",
        "test=scaler.fit_transform(test)\n",
        "test"
      ],
      "metadata": {
        "id": "TLHO_LKXg16l"
      },
      "execution_count": null,
      "outputs": []
    },
    {
      "cell_type": "code",
      "source": [
        "rf=RandomForestClassifier(n_estimators=75)\n",
        "rf.fit(X_train, y_train)\n",
        "y_predict=rf.predict(test)\n",
        "data=pd.DataFrame({'id':range(1, len(y_predict)+1), 'price':y_predict})\n",
        "data.to_csv('RandomForestPredForPassangers.csv', index=False)\n",
        "print('Saqlandi')"
      ],
      "metadata": {
        "id": "PEcRQs25hf_S"
      },
      "execution_count": null,
      "outputs": []
    },
    {
      "cell_type": "code",
      "source": [],
      "metadata": {
        "id": "V-CWJHC_iTmk"
      },
      "execution_count": null,
      "outputs": []
    }
  ]
}